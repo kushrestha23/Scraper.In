{
 "cells": [
  {
   "cell_type": "markdown",
   "id": "ab3d3e05",
   "metadata": {},
   "source": [
    "## **Job Posting Scraper**\n",
    "\n",
    "Creating the scraper for the job posting website name \"Indeed\" using python and beautifulsoup."
   ]
  },
  {
   "cell_type": "code",
   "execution_count": 26,
   "id": "de18f534",
   "metadata": {},
   "outputs": [
    {
     "name": "stdout",
     "output_type": "stream",
     "text": [
      "Collecting webdriver_manager\n",
      "  Downloading webdriver_manager-4.0.1-py2.py3-none-any.whl.metadata (12 kB)\n",
      "Requirement already satisfied: requests in c:\\users\\ahtse\\appdata\\local\\programs\\python\\python311\\lib\\site-packages (from webdriver_manager) (2.31.0)\n",
      "Collecting python-dotenv (from webdriver_manager)\n",
      "  Downloading python_dotenv-1.0.0-py3-none-any.whl (19 kB)\n",
      "Requirement already satisfied: packaging in c:\\users\\ahtse\\appdata\\local\\programs\\python\\python311\\lib\\site-packages (from webdriver_manager) (23.2)\n",
      "Requirement already satisfied: charset-normalizer<4,>=2 in c:\\users\\ahtse\\appdata\\local\\programs\\python\\python311\\lib\\site-packages (from requests->webdriver_manager) (3.3.0)\n",
      "Requirement already satisfied: idna<4,>=2.5 in c:\\users\\ahtse\\appdata\\local\\programs\\python\\python311\\lib\\site-packages (from requests->webdriver_manager) (3.4)\n",
      "Requirement already satisfied: urllib3<3,>=1.21.1 in c:\\users\\ahtse\\appdata\\local\\programs\\python\\python311\\lib\\site-packages (from requests->webdriver_manager) (2.0.7)\n",
      "Requirement already satisfied: certifi>=2017.4.17 in c:\\users\\ahtse\\appdata\\local\\programs\\python\\python311\\lib\\site-packages (from requests->webdriver_manager) (2023.7.22)\n",
      "Downloading webdriver_manager-4.0.1-py2.py3-none-any.whl (27 kB)\n",
      "Installing collected packages: python-dotenv, webdriver_manager\n",
      "Successfully installed python-dotenv-1.0.0 webdriver_manager-4.0.1\n",
      "Note: you may need to restart the kernel to use updated packages.\n",
      "Requirement already satisfied: webdriver-manager in c:\\users\\ahtse\\appdata\\local\\programs\\python\\python311\\lib\\site-packages (4.0.1)Note: you may need to restart the kernel to use updated packages.\n",
      "\n",
      "Requirement already satisfied: requests in c:\\users\\ahtse\\appdata\\local\\programs\\python\\python311\\lib\\site-packages (from webdriver-manager) (2.31.0)\n",
      "Requirement already satisfied: python-dotenv in c:\\users\\ahtse\\appdata\\local\\programs\\python\\python311\\lib\\site-packages (from webdriver-manager) (1.0.0)\n",
      "Requirement already satisfied: packaging in c:\\users\\ahtse\\appdata\\local\\programs\\python\\python311\\lib\\site-packages (from webdriver-manager) (23.2)\n",
      "Requirement already satisfied: charset-normalizer<4,>=2 in c:\\users\\ahtse\\appdata\\local\\programs\\python\\python311\\lib\\site-packages (from requests->webdriver-manager) (3.3.0)\n",
      "Requirement already satisfied: idna<4,>=2.5 in c:\\users\\ahtse\\appdata\\local\\programs\\python\\python311\\lib\\site-packages (from requests->webdriver-manager) (3.4)\n",
      "Requirement already satisfied: urllib3<3,>=1.21.1 in c:\\users\\ahtse\\appdata\\local\\programs\\python\\python311\\lib\\site-packages (from requests->webdriver-manager) (2.0.7)\n",
      "Requirement already satisfied: certifi>=2017.4.17 in c:\\users\\ahtse\\appdata\\local\\programs\\python\\python311\\lib\\site-packages (from requests->webdriver-manager) (2023.7.22)\n"
     ]
    },
    {
     "name": "stderr",
     "output_type": "stream",
     "text": [
      "UsageError: Line magic function `%pip3` not found.\n"
     ]
    }
   ],
   "source": [
    "%pip install webdriver_manager\n",
    "%pip install webdriver-manager\n",
    "%pip3 install lxml\n",
    "%pip3 install selenium\n",
    "%pip install --upgrade pip\n",
    "%pip install -U selenium"
   ]
  },
  {
   "cell_type": "code",
   "execution_count": 27,
   "id": "b6acfd6b",
   "metadata": {},
   "outputs": [
    {
     "data": {
      "text/plain": [
       "'4.14.0'"
      ]
     },
     "execution_count": 27,
     "metadata": {},
     "output_type": "execute_result"
    }
   ],
   "source": [
    "import selenium\n",
    "\n",
    "selenium.__version__"
   ]
  },
  {
   "cell_type": "code",
   "execution_count": null,
   "id": "a3d35cc8",
   "metadata": {},
   "outputs": [],
   "source": [
    "import pandas as pd\n",
    "import random \n",
    "import time\n",
    "# from parsel import Selector\n",
    "from selenium import webdriver\n",
    "from selenium.webdriver.common.by import By\n",
    "from selenium.webdriver.support.ui import WebDriverWait\n",
    "from selenium.webdriver.support import expected_conditions as EC\n",
    "from selenium.webdriver.chrome.options import Options\n",
    "from selenium.webdriver.common.keys import Keys\n",
    "\n",
    "chrome_options = Options()\n",
    "\n",
    "PROXY = \" \"\n",
    "\n",
    "chrome_options = webdriver.ChromeOptions()\n",
    "chrome_options.add_argument('--proxy-server=%s' % PROXY)\n",
    "\n",
    "driver = webdriver.Chrome(options=chrome_options)\n",
    "\n",
    "Job_data = []\n",
    "\n",
    "for page in range(0,50,10):\n",
    "    \n",
    "    driver.get(f'https://ca.indeed.com/jobs?q=Quality+Analyst&l=Toronto&start={page}')\n",
    "    time.sleep(random.uniform(8.5,10.9))\n",
    "    \n",
    "    try:\n",
    "        close = driver.find_element(By.XPATH,'//button[@class = \"icl-CloseButton icl-Modal-close\"]')\n",
    "        \n",
    "        close.click()\n",
    "    \n",
    "    except:\n",
    "        \n",
    "        pass\n",
    "    \n",
    "    wait = WebDriverWait(driver, 10)\n",
    "    \n",
    "    jobs = driver.find_elements(By.XPATH,'//*[@id=\"mosaic-provider-jobcards\"]/ul/li[1]/div/div[1]/div/div/div')\n",
    "    \n",
    "    for job in jobs: \n",
    "        job.location_once_scrolled_into_view\n",
    "        job.click()\n",
    "        time.sleep(random.uniform(6.6,9.9))\n",
    "        \n",
    "        Job_title = driver.find_element(By.XPATH, '//*[@id=\"viewJobSSRRoot\"]/div/div[2]/div/div/div[1]/div[2]/div[1]/div[1]/h1').text\n",
    "        title = Job_title.split('\\n')\n",
    "        Company = driver.find_element(By.XPATH,'//*[@id=\"vjs-container\"]/div/div/div/div[1]/div/div[1]/div[2]/div/div/div/div[1]').text\n",
    "        cmpny = Company.split('\\n')\n",
    "        Location = driver.find_element(By.XPATH,'//*[@id=\"vjs-container\"]/div/div/div/div[1]/div/div[1]/div[2]/div/div/div/div[2]').text.strip()\n",
    "        loc = Location.split('\\n')\n",
    "        \n",
    "        try:\n",
    "            Salary = driver.find_element(By.XPATH,'//*[@id=\"salaryInfoAndJobType\"]').text.strip()\n",
    "            Salary = Salary.split('\\n')\n",
    "        except:\n",
    "            Salary = 'None'\n",
    "        \n",
    "        Job_Description = driver.find_element(By.XPATH,'//*[@id=\"jobDescriptionText\"]').text.strip()\n",
    "        \n",
    "        data = {'Job_Title': title[0],'Company': cmpny[0],'Location': loc[0],'Salary': Salary,'Job_Description': Job_Description}\n",
    "        Job_data.append(data)\n",
    "        print('[*] Saving')\n",
    "        \n",
    "df = pd.DataFrame(Job_data)\n",
    "df\n",
    "df.to_excel('Indded_Jobs.xlsx')\n",
    "driver.quit()\n",
    "\n",
    "  \n"
   ]
  }
 ],
 "metadata": {
  "kernelspec": {
   "display_name": "Python 3 (ipykernel)",
   "language": "python",
   "name": "python3"
  },
  "language_info": {
   "codemirror_mode": {
    "name": "ipython",
    "version": 3
   },
   "file_extension": ".py",
   "mimetype": "text/x-python",
   "name": "python",
   "nbconvert_exporter": "python",
   "pygments_lexer": "ipython3",
   "version": "3.11.4"
  }
 },
 "nbformat": 4,
 "nbformat_minor": 5
}
